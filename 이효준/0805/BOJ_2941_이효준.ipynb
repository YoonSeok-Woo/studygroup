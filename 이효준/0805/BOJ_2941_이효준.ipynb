{
 "cells": [
  {
   "cell_type": "markdown",
   "metadata": {},
   "source": [
    "## [BOJ 2941 크로아티아 알파벳](https://www.acmicpc.net/problem/2941)\n",
    "\n",
    "![image.png](data:image/png;base64,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)\n",
    "\n",
    "* **입력**  \n",
    "첫째 줄에 최대 100글자의 단어가 주어진다. 알파벳 소문자와 '-'. '='로만 이루어져 있다.\n",
    "\n",
    "* **출력**  \n",
    "입력으로 주어진 단어가 몇 개의 크로아티아 알파벳으로 이루어져 있는지 출력한다."
   ]
  },
  {
   "cell_type": "code",
   "execution_count": 1,
   "metadata": {},
   "outputs": [
    {
     "name": "stdout",
     "output_type": "stream",
     "text": [
      "lc=z\n",
      "3\n"
     ]
    }
   ],
   "source": [
    "words = input()\n",
    "i = 0\n",
    "size = 0\n",
    "croatia_alphabet = ['c=', 'c-', 'dz=','d-', 'lj', 'nj', 's=', 'z=']\n",
    "\n",
    "while len(words) > 0:\n",
    "    temp = words[0:i]\n",
    "    if temp in croatia_alphabet:\n",
    "        words = words[i:]\n",
    "        size += 1\n",
    "        i = 0\n",
    "\n",
    "    elif i > len(words):\n",
    "        words = words[1:]\n",
    "        size += 1\n",
    "        i = 0 \n",
    "\n",
    "    else: i += 1\n",
    "\n",
    "print(size)"
   ]
  },
  {
   "cell_type": "code",
   "execution_count": null,
   "metadata": {},
   "outputs": [],
   "source": []
  }
 ],
 "metadata": {
  "kernelspec": {
   "display_name": "Python 3",
   "language": "python",
   "name": "python3"
  },
  "language_info": {
   "codemirror_mode": {
    "name": "ipython",
    "version": 3
   },
   "file_extension": ".py",
   "mimetype": "text/x-python",
   "name": "python",
   "nbconvert_exporter": "python",
   "pygments_lexer": "ipython3",
   "version": "3.8.5"
  },
  "toc": {
   "base_numbering": 1,
   "nav_menu": {},
   "number_sections": true,
   "sideBar": true,
   "skip_h1_title": false,
   "title_cell": "Table of Contents",
   "title_sidebar": "Contents",
   "toc_cell": false,
   "toc_position": {},
   "toc_section_display": true,
   "toc_window_display": false
  }
 },
 "nbformat": 4,
 "nbformat_minor": 4
}

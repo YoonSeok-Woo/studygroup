{
 "cells": [
  {
   "cell_type": "markdown",
   "metadata": {},
   "source": [
    "## [프로그래머스 - 숫자 문자열과 영단어](https://programmers.co.kr/learn/courses/30/lessons/81301?language=python3)\n",
    "\n",
    "숫자 일부 자릴수를 영단어로 바꾸는 문제\n",
    "* 1478 -> 'one4seveneight'\n",
    "* 234567 -> '23four5six7'"
   ]
  },
  {
   "cell_type": "code",
   "execution_count": 1,
   "metadata": {},
   "outputs": [],
   "source": [
    "def solution(s):\n",
    "    number = {'zero' : 0, 'one' : 1, 'two' : 2, 'three' : 3, 'four' : 4, 'five' : 5, 'six' : 6, 'seven' : 7, 'eight' : 8, 'nine' : 9}\n",
    "    number_keys = list(number.keys())\n",
    "    i = 1\n",
    "    temp = []\n",
    "    result = ''\n",
    "\n",
    "    while len(s) > 0:\n",
    "        temp = s[0:i]\n",
    "\n",
    "        try:\n",
    "            if int(temp) > -1:\n",
    "                result += temp\n",
    "                s = s[1:]\n",
    "                i = 0\n",
    "        except:\n",
    "            pass\n",
    "\n",
    "        if temp in number_keys:\n",
    "            result += str(number[temp])\n",
    "            s = s[i:]\n",
    "            i = 0\n",
    "\n",
    "        elif i > len(s):\n",
    "            s = s[1:]\n",
    "            i = 0\n",
    "\n",
    "        else: \n",
    "            i += 1\n",
    "\n",
    "    return int(result)"
   ]
  },
  {
   "cell_type": "code",
   "execution_count": 2,
   "metadata": {},
   "outputs": [
    {
     "name": "stdout",
     "output_type": "stream",
     "text": [
      "123\n"
     ]
    }
   ],
   "source": [
    "print(solution('123'))"
   ]
  }
 ],
 "metadata": {
  "kernelspec": {
   "display_name": "Python 3",
   "language": "python",
   "name": "python3"
  },
  "language_info": {
   "codemirror_mode": {
    "name": "ipython",
    "version": 3
   },
   "file_extension": ".py",
   "mimetype": "text/x-python",
   "name": "python",
   "nbconvert_exporter": "python",
   "pygments_lexer": "ipython3",
   "version": "3.8.5"
  },
  "toc": {
   "base_numbering": 1,
   "nav_menu": {},
   "number_sections": true,
   "sideBar": true,
   "skip_h1_title": false,
   "title_cell": "Table of Contents",
   "title_sidebar": "Contents",
   "toc_cell": false,
   "toc_position": {},
   "toc_section_display": true,
   "toc_window_display": false
  }
 },
 "nbformat": 4,
 "nbformat_minor": 4
}

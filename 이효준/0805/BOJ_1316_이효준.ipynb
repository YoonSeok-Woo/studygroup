{
 "cells": [
  {
   "cell_type": "markdown",
   "metadata": {},
   "source": [
    "## [BOJ 1316 그룹 단어 체커](https://www.acmicpc.net/problem/1316)\n",
    "그룹 단어란 단어에 존재하는 모든 문자에 대해서, 각 문자가 연속해서 나타나는 경우만을 말한다. ...\n",
    "\n",
    "* **입력**\n",
    "첫째 줄에 단어의 개수 N이 들어온다. N은 100보다 작거나 같은 자연수.\n",
    "\n",
    "* **출력**\n",
    "그룹 단어의 개수를 출력"
   ]
  },
  {
   "cell_type": "code",
   "execution_count": 1,
   "metadata": {},
   "outputs": [
    {
     "name": "stdout",
     "output_type": "stream",
     "text": [
      "3\n",
      "happy\n",
      "new\n",
      "year\n",
      "3\n"
     ]
    }
   ],
   "source": [
    "N = int(input())\n",
    "flag = 0\n",
    "\n",
    "for _ in range(N):\n",
    "    temp = []\n",
    "    words = list(input())\n",
    "    for i in range(1, len(words)):\n",
    "        if words[i-1] != words[i]:\n",
    "            if len(temp) == 0:\n",
    "                temp.append(words[i-1])\n",
    "            elif words[i] in temp:\n",
    "                flag+=1\n",
    "                break\n",
    "            else:\n",
    "                temp.append(words[i-1])\n",
    "\n",
    "print(N - flag)"
   ]
  },
  {
   "cell_type": "code",
   "execution_count": null,
   "metadata": {},
   "outputs": [],
   "source": []
  }
 ],
 "metadata": {
  "kernelspec": {
   "display_name": "Python 3",
   "language": "python",
   "name": "python3"
  },
  "language_info": {
   "codemirror_mode": {
    "name": "ipython",
    "version": 3
   },
   "file_extension": ".py",
   "mimetype": "text/x-python",
   "name": "python",
   "nbconvert_exporter": "python",
   "pygments_lexer": "ipython3",
   "version": "3.8.5"
  },
  "toc": {
   "base_numbering": 1,
   "nav_menu": {},
   "number_sections": true,
   "sideBar": true,
   "skip_h1_title": false,
   "title_cell": "Table of Contents",
   "title_sidebar": "Contents",
   "toc_cell": false,
   "toc_position": {},
   "toc_section_display": true,
   "toc_window_display": false
  }
 },
 "nbformat": 4,
 "nbformat_minor": 4
}

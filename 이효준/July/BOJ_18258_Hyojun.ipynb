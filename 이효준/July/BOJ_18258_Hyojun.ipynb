{
 "cells": [
  {
   "cell_type": "markdown",
   "metadata": {},
   "source": [
    "# BOJ 10828"
   ]
  },
  {
   "cell_type": "markdown",
   "metadata": {},
   "source": [
    "명령은 총 다섯 가지이다.\n",
    "\n",
    "* push X: 정수 X를 스택에 넣는 연산이다.\n",
    "* pop: 스택에서 가장 위에 있는 정수를 빼고, 그 수를 __출력__한다. 만약 스택에 들어있는 정수가 없는 경우에는 __-1을 출력__한다.\n",
    "* size: 스택에 들어있는 __정수의 개수를 출력__한다.\n",
    "* empty: 스택이 비어있으면 1, 아니면 0을 __출력__한다.\n",
    "* top: 스택의 __가장 위에 있는 정수를 출력__한다. 만약 스택에 들어있는 정수가 __없는 경우에는 -1을 출력__한다."
   ]
  },
  {
   "cell_type": "code",
   "execution_count": 4,
   "metadata": {
    "scrolled": false
   },
   "outputs": [
    {
     "name": "stdout",
     "output_type": "stream",
     "text": [
      "7\n",
      "pop\n",
      "top\n",
      "push 123\n",
      "top\n",
      "pop\n",
      "top\n",
      "pop\n",
      "-1\n",
      "-1\n",
      "123\n",
      "123\n",
      "-1\n",
      "-1\n"
     ]
    }
   ],
   "source": [
    "import sys\n",
    "from sys import stdin\n",
    "step = int(input())\n",
    "stack = []\n",
    "\n",
    "for i in range(step):\n",
    "    call = list(sys.stdin.readline().split())\n",
    "\n",
    "    if call[0] == 'pop':\n",
    "        if len(stack) > 0:\n",
    "            print(stack.pop())\n",
    "        else:\n",
    "            print(-1)\n",
    "    elif call[0] == 'size':\n",
    "        print(len(stack))\n",
    "    elif call[0] == 'empty':\n",
    "        if len(stack) < 1:\n",
    "            print(1)\n",
    "        else:\n",
    "            print(0)\n",
    "    elif call[0] == 'top':\n",
    "        if len(stack) < 1:\n",
    "            print(-1)\n",
    "        else:\n",
    "            print(stack[-1])\n",
    "    else:\n",
    "        stack.append(int(call[1]))"
   ]
  },
  {
   "cell_type": "code",
   "execution_count": null,
   "metadata": {},
   "outputs": [],
   "source": []
  }
 ],
 "metadata": {
  "kernelspec": {
   "display_name": "Python 3",
   "language": "python",
   "name": "python3"
  },
  "language_info": {
   "codemirror_mode": {
    "name": "ipython",
    "version": 3
   },
   "file_extension": ".py",
   "mimetype": "text/x-python",
   "name": "python",
   "nbconvert_exporter": "python",
   "pygments_lexer": "ipython3",
   "version": "3.8.5"
  },
  "toc": {
   "base_numbering": 1,
   "nav_menu": {},
   "number_sections": false,
   "sideBar": true,
   "skip_h1_title": false,
   "title_cell": "Table of Contents",
   "title_sidebar": "Contents",
   "toc_cell": false,
   "toc_position": {
    "height": "calc(100% - 180px)",
    "left": "10px",
    "top": "150px",
    "width": "282.431px"
   },
   "toc_section_display": true,
   "toc_window_display": true
  }
 },
 "nbformat": 4,
 "nbformat_minor": 4
}

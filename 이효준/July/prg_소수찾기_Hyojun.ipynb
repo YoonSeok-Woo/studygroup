{
 "cells": [
  {
   "cell_type": "markdown",
   "metadata": {},
   "source": [
    "# 프로그래머스 - 소수 찾기\n",
    "https://programmers.co.kr/learn/courses/30/lessons/42839\n",
    "\n",
    "숫자가 적힌 문자열 numbers가 주어졌을 때, 만들 수 있는 소수가 몇개인지 return 하도록 하는 solution 함수를 만들어라.\n",
    "\n",
    "|numbers|return|\n",
    "|:--:|:--:|\n",
    "|\"17\"|3|\n",
    "|\"011\"|2|\n",
    "\n",
    "예제 #1)\n",
    "[1, 7]으로는 소수 [7, 17, 71] 만들 수 있음.\n",
    "\n",
    "예제 #2)\n",
    "[0, 1, 1]으로는 소수 [11, 101] 만들 수 있음.\n",
    "    - 11, 011은 같은 숫자.\n",
    "    \n",
    "* 튜플안에 있는 문자를 합치기 위해서 `''.join` 사용\n",
    "    ex) a = ('1', '2', '3') // ''.join(a) --> 123"
   ]
  },
  {
   "cell_type": "code",
   "execution_count": 13,
   "metadata": {},
   "outputs": [],
   "source": [
    "from itertools import permutations\n",
    "\n",
    "def isprime(n):\n",
    "    if n==0 or n==1:\n",
    "        return False\n",
    "    else:\n",
    "        for i in range(2, n+1):\n",
    "            if n!=i and n % i == 0:\n",
    "                return False\n",
    "        else: \n",
    "            return True\n",
    "\n",
    "def findprime(numbers):\n",
    "    numbers = [n for n in numbers]\n",
    "    temp = []\n",
    "    result = []\n",
    "    for i in range(1, len(numbers)+1):\n",
    "        temp = (list(permutations(numbers, i)))\n",
    "        for j in range(len(temp)):\n",
    "            #print(temp[j])\n",
    "            num = int(''.join(map(str,temp[j])))\n",
    "            #print(num)\n",
    "            if isprime(num):\n",
    "                result.append(num)\n",
    "    \n",
    "    # print(result)\n",
    "    result = list(set(result))\n",
    "\n",
    "    return len(result)"
   ]
  },
  {
   "cell_type": "code",
   "execution_count": 14,
   "metadata": {},
   "outputs": [
    {
     "name": "stdout",
     "output_type": "stream",
     "text": [
      "3\n",
      "2\n"
     ]
    }
   ],
   "source": [
    "print(findprime('17')) #--> 3\n",
    "print(findprime('011')) #--> 2"
   ]
  },
  {
   "cell_type": "code",
   "execution_count": null,
   "metadata": {},
   "outputs": [],
   "source": []
  }
 ],
 "metadata": {
  "kernelspec": {
   "display_name": "Python 3",
   "language": "python",
   "name": "python3"
  },
  "language_info": {
   "codemirror_mode": {
    "name": "ipython",
    "version": 3
   },
   "file_extension": ".py",
   "mimetype": "text/x-python",
   "name": "python",
   "nbconvert_exporter": "python",
   "pygments_lexer": "ipython3",
   "version": "3.8.5"
  },
  "toc": {
   "base_numbering": 1,
   "nav_menu": {},
   "number_sections": true,
   "sideBar": true,
   "skip_h1_title": false,
   "title_cell": "Table of Contents",
   "title_sidebar": "Contents",
   "toc_cell": false,
   "toc_position": {},
   "toc_section_display": true,
   "toc_window_display": false
  }
 },
 "nbformat": 4,
 "nbformat_minor": 4
}

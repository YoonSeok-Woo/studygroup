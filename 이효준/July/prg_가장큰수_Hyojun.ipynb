{
 "cells": [
  {
   "cell_type": "markdown",
   "metadata": {},
   "source": [
    "# 프로그래머스 - 가장큰수\n",
    "https://programmers.co.kr/learn/courses/30/lessons/42746"
   ]
  },
  {
   "cell_type": "code",
   "execution_count": 1,
   "metadata": {},
   "outputs": [],
   "source": [
    "# 시간초과발생 - 주어진 테스트케이스에서만 동작가능\n",
    "# itertools의 permutation을 활용\n",
    "# itertools 안쓰고 할 수 있을까..?\n",
    "from itertools import permutations\n",
    "\n",
    "def solution(numbers):\n",
    "    n = len(numbers)\n",
    "    numbers = map(str, numbers)\n",
    "    a = list(permutations(numbers, n))\n",
    "    b = ''\n",
    "    c = []\n",
    "    for item in a:\n",
    "        for num in a:\n",
    "            for i in range(len(num)):\n",
    "                b += num[i]\n",
    "            c.append(b)\n",
    "            b = ''\n",
    "    \n",
    "    result = map(int, c)\n",
    "    result = str(max(result))\n",
    "    \n",
    "    return result"
   ]
  },
  {
   "cell_type": "code",
   "execution_count": 2,
   "metadata": {},
   "outputs": [
    {
     "name": "stdout",
     "output_type": "stream",
     "text": [
      "6210\n",
      "9534330\n"
     ]
    }
   ],
   "source": [
    "print(solution([6, 10, 2]))\n",
    "print(solution([3, 30, 34, 5, 9]))"
   ]
  }
 ],
 "metadata": {
  "kernelspec": {
   "display_name": "Python 3",
   "language": "python",
   "name": "python3"
  },
  "language_info": {
   "codemirror_mode": {
    "name": "ipython",
    "version": 3
   },
   "file_extension": ".py",
   "mimetype": "text/x-python",
   "name": "python",
   "nbconvert_exporter": "python",
   "pygments_lexer": "ipython3",
   "version": "3.8.5"
  },
  "toc": {
   "base_numbering": 1,
   "nav_menu": {},
   "number_sections": true,
   "sideBar": true,
   "skip_h1_title": false,
   "title_cell": "Table of Contents",
   "title_sidebar": "Contents",
   "toc_cell": false,
   "toc_position": {},
   "toc_section_display": true,
   "toc_window_display": false
  }
 },
 "nbformat": 4,
 "nbformat_minor": 4
}

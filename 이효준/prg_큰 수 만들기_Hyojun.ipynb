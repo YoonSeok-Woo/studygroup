{
 "cells": [
  {
   "cell_type": "markdown",
   "metadata": {},
   "source": [
    "# 프로그래머스 - 큰 수 만들기[아직못품]\n",
    "https://programmers.co.kr/learn/courses/30/lessons/42883b\n",
    "\n",
    "|numbers|k|return|\n",
    "|:--:|:--:|:--:|\n",
    "|\"1924\"|2|\"94\"|\n",
    "|\"1231234\"|3|\"3234\"|\n",
    "|\"4177252841\"|4|\"775841\"|\n",
    "\n",
    "k는 numbers에서 제거할 수, k개를 제거했을 때 만들 수 있는 가장 큰 수를 문자열 형태로 return"
   ]
  },
  {
   "cell_type": "code",
   "execution_count": 2,
   "metadata": {},
   "outputs": [],
   "source": [
    "# 아직 푸는중"
   ]
  }
 ],
 "metadata": {
  "kernelspec": {
   "display_name": "Python 3",
   "language": "python",
   "name": "python3"
  },
  "language_info": {
   "codemirror_mode": {
    "name": "ipython",
    "version": 3
   },
   "file_extension": ".py",
   "mimetype": "text/x-python",
   "name": "python",
   "nbconvert_exporter": "python",
   "pygments_lexer": "ipython3",
   "version": "3.8.5"
  },
  "toc": {
   "base_numbering": 1,
   "nav_menu": {},
   "number_sections": true,
   "sideBar": true,
   "skip_h1_title": false,
   "title_cell": "Table of Contents",
   "title_sidebar": "Contents",
   "toc_cell": false,
   "toc_position": {},
   "toc_section_display": true,
   "toc_window_display": false
  }
 },
 "nbformat": 4,
 "nbformat_minor": 4
}

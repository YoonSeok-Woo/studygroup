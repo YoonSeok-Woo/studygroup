{
 "cells": [
  {
   "cell_type": "markdown",
   "metadata": {},
   "source": [
    "# BOJ 2231 - 분해합\n",
    "https://www.acmicpc.net/problem/2231\n",
    "\n",
    "\n",
    "ex) 245의 분해합은 256(= 245 + 2 + 4 + 5) 이 된다. \n",
    "\n",
    "input = 216, output = 198  \n",
    "input = 245, output = 256"
   ]
  },
  {
   "cell_type": "code",
   "execution_count": 1,
   "metadata": {},
   "outputs": [
    {
     "name": "stdout",
     "output_type": "stream",
     "text": [
      "216\n",
      "198\n"
     ]
    }
   ],
   "source": [
    "# 기존테케 성공, 다른 테케 실패\n",
    "\n",
    "number = int(input()) \n",
    "new = []\n",
    "\n",
    "for n in range(1, number+1):\n",
    "    if ((n//100)+((n//10)%10)+(n%10)+n) == number:\n",
    "        new.append(n) \n",
    "    \n",
    "if len(new) > 0:\n",
    "    print(new[0])\n",
    "else:\n",
    "    print(0)"
   ]
  },
  {
   "cell_type": "code",
   "execution_count": 2,
   "metadata": {},
   "outputs": [
    {
     "name": "stdout",
     "output_type": "stream",
     "text": [
      "216\n",
      "198\n"
     ]
    }
   ],
   "source": [
    "# 모범답안\n",
    "N = int(input())\n",
    "cons = 0\n",
    "\n",
    "for i in range(1, N+1):\n",
    "    sumDigit = list(map(int, str(i)))\n",
    "    cons = i + sum(sumDigit)\n",
    "    if (N == cons):\n",
    "        print(i)\n",
    "        break\n",
    "\n",
    "if (i == N):\n",
    "    print(0)"
   ]
  }
 ],
 "metadata": {
  "kernelspec": {
   "display_name": "Python 3",
   "language": "python",
   "name": "python3"
  },
  "language_info": {
   "codemirror_mode": {
    "name": "ipython",
    "version": 3
   },
   "file_extension": ".py",
   "mimetype": "text/x-python",
   "name": "python",
   "nbconvert_exporter": "python",
   "pygments_lexer": "ipython3",
   "version": "3.8.5"
  },
  "toc": {
   "base_numbering": 1,
   "nav_menu": {},
   "number_sections": false,
   "sideBar": true,
   "skip_h1_title": false,
   "title_cell": "Table of Contents",
   "title_sidebar": "Contents",
   "toc_cell": false,
   "toc_position": {},
   "toc_section_display": true,
   "toc_window_display": false
  }
 },
 "nbformat": 4,
 "nbformat_minor": 4
}

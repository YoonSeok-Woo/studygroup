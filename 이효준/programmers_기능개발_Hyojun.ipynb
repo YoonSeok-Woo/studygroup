{
 "cells": [
  {
   "cell_type": "code",
   "execution_count": 1,
   "metadata": {},
   "outputs": [],
   "source": [
    "def solution(progresses, speeds):\n",
    "    answer =[]\n",
    "    temp = ''\n",
    "    while len(progresses) > 0:\n",
    "        task = progresses.pop(0)\n",
    "        speed = speeds.pop(0)\n",
    "        if task >= 100:\n",
    "            temp += '1'        \n",
    "        else:\n",
    "            temp += ' '\n",
    "            progresses.insert(0, task)\n",
    "            speeds.insert(0, speed)\n",
    "            for i in range(len(progresses)):\n",
    "                progresses[i] += speeds[i]\n",
    "        \n",
    "    temp = temp.split()\n",
    "    for item in temp:\n",
    "        answer.append(len(item))\n",
    "    \n",
    "    return answer"
   ]
  },
  {
   "cell_type": "code",
   "execution_count": 2,
   "metadata": {},
   "outputs": [
    {
     "name": "stdout",
     "output_type": "stream",
     "text": [
      "[2, 1]\n",
      "[1, 3, 2]\n"
     ]
    }
   ],
   "source": [
    "print(solution([93, 30, 55], [1, 30, 5])) # return [2, 1]\n",
    "print(solution([95, 90, 99, 99, 80, 99], [1, 1, 1, 1, 1, 1])) # return [1, 3, 2]"
   ]
  }
 ],
 "metadata": {
  "kernelspec": {
   "display_name": "Python 3",
   "language": "python",
   "name": "python3"
  },
  "language_info": {
   "codemirror_mode": {
    "name": "ipython",
    "version": 3
   },
   "file_extension": ".py",
   "mimetype": "text/x-python",
   "name": "python",
   "nbconvert_exporter": "python",
   "pygments_lexer": "ipython3",
   "version": "3.8.5"
  },
  "toc": {
   "base_numbering": 1,
   "nav_menu": {},
   "number_sections": true,
   "sideBar": true,
   "skip_h1_title": false,
   "title_cell": "Table of Contents",
   "title_sidebar": "Contents",
   "toc_cell": false,
   "toc_position": {},
   "toc_section_display": true,
   "toc_window_display": false
  }
 },
 "nbformat": 4,
 "nbformat_minor": 4
}
